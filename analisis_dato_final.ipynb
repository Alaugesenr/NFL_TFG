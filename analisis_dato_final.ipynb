{
 "cells": [
  {
   "cell_type": "code",
   "execution_count": 9,
   "id": "initial_id",
   "metadata": {
    "collapsed": true,
    "ExecuteTime": {
     "end_time": "2025-05-13T18:20:52.443456Z",
     "start_time": "2025-05-13T18:20:47.290422Z"
    }
   },
   "outputs": [],
   "source": [
    "import pandas as pd\n",
    "import numpy as np\n",
    "\n",
    "# 1. Cargar datos desde Excel\n",
    "df = pd.read_excel('/Users/AlexLaugesen/repos/TFG1/venv/FINAL_DATA.xlsx')"
   ]
  },
  {
   "cell_type": "code",
   "execution_count": 4,
   "outputs": [
    {
     "name": "stdout",
     "output_type": "stream",
     "text": [
      "Distribución de la nueva variable 'Performance':\n"
     ]
    },
    {
     "data": {
      "text/plain": "count    3246.000000\nmean       32.386725\nstd        26.765856\nmin         0.000000\n25%         8.000000\n50%        29.539583\n75%        51.591560\nmax       100.000000\nName: Performance, dtype: float64"
     },
     "metadata": {},
     "output_type": "display_data"
    }
   ],
   "source": [
    "# 2. Listas de posiciones ofensivas y defensivas\n",
    "offense_positions = ['QB', 'RB', 'WR', 'TE']\n",
    "defense_positions = ['CB', 'S', 'LB', 'DT', 'DE']\n",
    "\n",
    "# 3. Definir funciones de cálculo de performance\n",
    "\n",
    "def calc_performance_offense(row):\n",
    "    pos = row['Pos']\n",
    "    if pos == 'QB':\n",
    "        C1 = max(0, min(40, (row.get('NFL.Cmp%', 0) - 30) * 1.5))\n",
    "        if row.get('NFL.Pass_Att', 0) > 0:\n",
    "            C2 = max(0, min(30, (row['NFL.Pass_TD'] / row['NFL.Pass_Att'] * 600)))\n",
    "            C3 = max(-25, min(0, -(row['NFL.Pass_Int'] / row['NFL.Pass_Att'] * 500)))\n",
    "        else:\n",
    "            C2 = C3 = 0\n",
    "        C4 = max(0, min(30, row.get('NFL.Pass_Y/A', 0) * 3))\n",
    "        return max(0, C1 + C2 + C3 + C4)\n",
    "    elif pos in ['RB', 'WR', 'TE']:\n",
    "        games = row.get('NFL.Games', 1) or 1\n",
    "        C1 = max(0, min(20, (row.get('NFL.Rush_Yds', 0) / games * 0.2)))\n",
    "        C2 = max(0, min(20, (row.get('NFL.Rec_Yds', 0) / games * 0.2)))\n",
    "        rush_att = row.get('NFL.Rush_Att', 0) or 1\n",
    "        rec_att = row.get('NFL.Rec', 0) or 1\n",
    "        C3 = max(0, min(15, (row.get('NFL.Rush_TD', 0) / rush_att) * 400))\n",
    "        C4 = max(0, min(15, (row.get('NFL.Rec_TD', 0) / rec_att) * 400))\n",
    "        C5 = max(0, min(15, row.get('NFL.Rush_Y/A', 0) * 2))\n",
    "        C6 = max(0, min(15, row.get('NFL.Y/R', 0) * 2))\n",
    "        return C1 + C2 + C3 + C4 + C5 + C6\n",
    "    else:\n",
    "        return np.nan\n",
    "\n",
    "\n",
    "def calc_performance_defense(row):\n",
    "    pos = row['Pos']\n",
    "    if pos in ['CB', 'S']:\n",
    "        D1 = max(0, min(40, row.get('NFL.Def_Int', 0) * 15))\n",
    "        D2 = max(0, min(20, row.get('NFL.TFL', 0) * 8))\n",
    "        D3 = max(0, min(10, row.get('NFL.Sk', 0) * 20))\n",
    "        D4 = max(0, min(20, row.get('NFL.Comb', 0) * 0.36))\n",
    "        D5 = max(0, min(10, row.get('NFL.Solo', 0) * 0.25))\n",
    "        return D1 + D2 + D3 + D4 + D5\n",
    "    elif pos in ['LB', 'DT', 'DE']:\n",
    "        D1 = max(0, min(30, row.get('NFL.Sk', 0) * 10))\n",
    "        D2 = max(0, min(30, row.get('NFL.TFL', 0) * 6.5))\n",
    "        D3 = max(0, min(20, row.get('NFL.Comb', 0) * 0.4))\n",
    "        D4 = max(0, min(10, row.get('NFL.Solo', 0) * 0.5))\n",
    "        D5 = max(0, min(10, row.get('NFL.Def_Int', 0) * 5))\n",
    "        return D1 + D2 + D3 + D4 + D5\n",
    "    else:\n",
    "        return np.nan\n",
    "\n",
    "\n",
    "def calc_performance(row):\n",
    "    pos = row['Pos']\n",
    "    if pos in offense_positions:\n",
    "        return calc_performance_offense(row)\n",
    "    elif pos in defense_positions:\n",
    "        return calc_performance_defense(row)\n",
    "    else:\n",
    "        return np.nan\n",
    "    \n",
    "# 4. Calcular columna 'Performance' antes del one-hot encoding\n",
    "df['Performance'] = df.apply(calc_performance, axis=1)\n",
    "\n",
    "print(\"Distribución de la nueva variable 'Performance':\")\n",
    "display(df['Performance'].describe())"
   ],
   "metadata": {
    "collapsed": false,
    "ExecuteTime": {
     "end_time": "2025-05-13T17:55:32.140861Z",
     "start_time": "2025-05-13T17:55:31.839443Z"
    }
   },
   "id": "344f1a9b8fe38c80"
  },
  {
   "cell_type": "code",
   "execution_count": 8,
   "outputs": [
    {
     "name": "stdout",
     "output_type": "stream",
     "text": [
      "Procesamiento completado. Archivos guardados\n"
     ]
    }
   ],
   "source": [
    "# 5. One-Hot Encoding de variables categóricas\n",
    "categorical_cols = ['Pos', 'Draft Team', 'Draft College']\n",
    "df_encoded = pd.get_dummies(df, columns=categorical_cols, prefix=['Pos', 'DraftTeam', 'DraftCollege'])\n",
    "\n",
    "# 6. Guardar la base procesada en CSV\n",
    "df_encoded.to_csv('/Users/AlexLaugesen/repos/TFG1/venv/FINAL_DATA_processed.csv', index=False)\n",
    "\n",
    "# 7. Segmentación en ofensivos y defensivos\n",
    "# Usar any() para combinar condiciones sobre columnas one-hot\n",
    "offense_cols = [f\"Pos_{p}\" for p in offense_positions]\n",
    "defense_cols = [f\"Pos_{p}\" for p in defense_positions]\n",
    "\n",
    "df_offense = df_encoded[df_encoded[offense_cols].any(axis=1)]\n",
    "df_defense = df_encoded[df_encoded[defense_cols].any(axis=1)]\n",
    "\n",
    "# Guardar segmentos\n",
    "df_offense.to_csv('/Users/AlexLaugesen/repos/TFG1/venv/FINAL_DATA_offense.csv', index=False)\n",
    "df_defense.to_csv('/Users/AlexLaugesen/repos/TFG1/venv/FINAL_DATA_defense.csv', index=False)\n",
    "\n",
    "print(\"Procesamiento completado. Archivos guardados\")\n"
   ],
   "metadata": {
    "collapsed": false,
    "ExecuteTime": {
     "end_time": "2025-05-13T17:59:57.210200Z",
     "start_time": "2025-05-13T17:59:56.623499Z"
    }
   },
   "id": "9c6a581c16991a29"
  }
 ],
 "metadata": {
  "kernelspec": {
   "display_name": "Python 3",
   "language": "python",
   "name": "python3"
  },
  "language_info": {
   "codemirror_mode": {
    "name": "ipython",
    "version": 2
   },
   "file_extension": ".py",
   "mimetype": "text/x-python",
   "name": "python",
   "nbconvert_exporter": "python",
   "pygments_lexer": "ipython2",
   "version": "2.7.6"
  }
 },
 "nbformat": 4,
 "nbformat_minor": 5
}
